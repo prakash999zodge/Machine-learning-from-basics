{
 "cells": [
  {
   "cell_type": "markdown",
   "metadata": {},
   "source": [
    "# First Notebook\n",
    "## first notebook\n",
    "### first Notebook\n",
    "\n",
    "* Hello students\n",
    "     * hello\n",
    "     "
   ]
  },
  {
   "cell_type": "code",
   "execution_count": 1,
   "metadata": {},
   "outputs": [
    {
     "name": "stdout",
     "output_type": "stream",
     "text": [
      "Hello world\n"
     ]
    }
   ],
   "source": [
    "print('Hello world')"
   ]
  },
  {
   "cell_type": "code",
   "execution_count": 2,
   "metadata": {},
   "outputs": [],
   "source": [
    "# variables\n",
    "# vary + able\n",
    "# water bottle --> cold\n",
    "# warm water\n",
    "# cold water"
   ]
  },
  {
   "cell_type": "code",
   "execution_count": 3,
   "metadata": {},
   "outputs": [
    {
     "name": "stdout",
     "output_type": "stream",
     "text": [
      "10\n"
     ]
    }
   ],
   "source": [
    "# a = variable\n",
    "# = is operator\n",
    "# 10 is value\n",
    "a = 10\n",
    "print(a)"
   ]
  },
  {
   "cell_type": "code",
   "execution_count": 4,
   "metadata": {},
   "outputs": [
    {
     "name": "stdout",
     "output_type": "stream",
     "text": [
      "10\n"
     ]
    }
   ],
   "source": [
    "print(a)"
   ]
  },
  {
   "cell_type": "code",
   "execution_count": 5,
   "metadata": {},
   "outputs": [
    {
     "name": "stdout",
     "output_type": "stream",
     "text": [
      "20\n"
     ]
    }
   ],
   "source": [
    "a = 20\n",
    "print(a)"
   ]
  },
  {
   "cell_type": "code",
   "execution_count": 6,
   "metadata": {},
   "outputs": [
    {
     "name": "stdout",
     "output_type": "stream",
     "text": [
      "20\n",
      "why are you late\n"
     ]
    }
   ],
   "source": [
    "a=20\n",
    "b='why are you late'\n",
    "print(a)\n",
    "print(b)"
   ]
  },
  {
   "cell_type": "code",
   "execution_count": 7,
   "metadata": {},
   "outputs": [
    {
     "name": "stdout",
     "output_type": "stream",
     "text": [
      "50\n"
     ]
    }
   ],
   "source": [
    "_percent = 50\n",
    "print(_percent)"
   ]
  },
  {
   "cell_type": "code",
   "execution_count": 8,
   "metadata": {},
   "outputs": [
    {
     "name": "stdout",
     "output_type": "stream",
     "text": [
      "tata motors\n"
     ]
    }
   ],
   "source": [
    "Company_name = 'tata motors'\n",
    "print(Company_name)"
   ]
  },
  {
   "cell_type": "code",
   "execution_count": 9,
   "metadata": {},
   "outputs": [
    {
     "name": "stdout",
     "output_type": "stream",
     "text": [
      "Suryakumar Yadav\n"
     ]
    }
   ],
   "source": [
    "Cricketer_name65 = 'Suryakumar Yadav'\n",
    "print(Cricketer_name65)"
   ]
  },
  {
   "cell_type": "code",
   "execution_count": 10,
   "metadata": {},
   "outputs": [
    {
     "name": "stdout",
     "output_type": "stream",
     "text": [
      "Virat Kohli\n"
     ]
    }
   ],
   "source": [
    "jersey18 = 'Virat Kohli'\n",
    "print(jersey18)"
   ]
  },
  {
   "cell_type": "code",
   "execution_count": 11,
   "metadata": {},
   "outputs": [
    {
     "name": "stdout",
     "output_type": "stream",
     "text": [
      "zaki\n"
     ]
    }
   ],
   "source": [
    "footballer_name6 = 'zaki'\n",
    "print(footballer_name6)"
   ]
  },
  {
   "cell_type": "code",
   "execution_count": 12,
   "metadata": {},
   "outputs": [
    {
     "name": "stdout",
     "output_type": "stream",
     "text": [
      "5 <class 'str'>\n"
     ]
    }
   ],
   "source": [
    "# Variable casting\n",
    "x = str(5)\n",
    "print(x,type(x))"
   ]
  },
  {
   "cell_type": "code",
   "execution_count": 13,
   "metadata": {},
   "outputs": [
    {
     "name": "stdout",
     "output_type": "stream",
     "text": [
      "<class 'int'>\n"
     ]
    }
   ],
   "source": [
    "y = 5\n",
    "print(type(y))"
   ]
  },
  {
   "cell_type": "code",
   "execution_count": 14,
   "metadata": {},
   "outputs": [
    {
     "name": "stdout",
     "output_type": "stream",
     "text": [
      "111.0 <class 'float'>\n"
     ]
    }
   ],
   "source": [
    "Demo = float(111)\n",
    "print(Demo,type(Demo))"
   ]
  },
  {
   "cell_type": "code",
   "execution_count": 15,
   "metadata": {},
   "outputs": [
    {
     "name": "stdout",
     "output_type": "stream",
     "text": [
      "111.21 <class 'float'>\n"
     ]
    }
   ],
   "source": [
    "demo1 = 111.21\n",
    "print(demo1,type(demo1))"
   ]
  },
  {
   "cell_type": "code",
   "execution_count": 16,
   "metadata": {},
   "outputs": [
    {
     "name": "stdout",
     "output_type": "stream",
     "text": [
      "Today is Thursday\n",
      "Yesterday it was Wednesday\n"
     ]
    }
   ],
   "source": [
    "# Case sensitive example\n",
    "Z = 'Today is Thursday'\n",
    "z = 'Yesterday it was Wednesday'\n",
    "print(Z)\n",
    "print(z)"
   ]
  },
  {
   "cell_type": "code",
   "execution_count": 17,
   "metadata": {},
   "outputs": [
    {
     "name": "stdout",
     "output_type": "stream",
     "text": [
      "Today is Thursday Yesterday it was Wednesday\n"
     ]
    }
   ],
   "source": [
    "print(Z,z)"
   ]
  },
  {
   "cell_type": "code",
   "execution_count": 18,
   "metadata": {},
   "outputs": [
    {
     "name": "stdout",
     "output_type": "stream",
     "text": [
      "Monday\n",
      "Tuesday\n",
      "Sunday\n"
     ]
    }
   ],
   "source": [
    "x1,x2,x3 = 'Monday','Tuesday','Sunday'\n",
    "print(x1)\n",
    "print(x2)\n",
    "print(x3)"
   ]
  },
  {
   "cell_type": "code",
   "execution_count": 19,
   "metadata": {},
   "outputs": [
    {
     "name": "stdout",
     "output_type": "stream",
     "text": [
      "I like ice creams\n"
     ]
    }
   ],
   "source": [
    "a1 = 'I'\n",
    "a2 = ' like'\n",
    "a3 = ' ice creams'\n",
    "print(a1+a2+a3)"
   ]
  },
  {
   "cell_type": "code",
   "execution_count": 20,
   "metadata": {},
   "outputs": [
    {
     "name": "stdout",
     "output_type": "stream",
     "text": [
      "I like ice creams\n"
     ]
    }
   ],
   "source": [
    "a1 = 'I'\n",
    "a2 = 'like'\n",
    "a3 = 'ice creams'\n",
    "print(a1+' '+a2+' '+a3)"
   ]
  },
  {
   "cell_type": "code",
   "execution_count": 21,
   "metadata": {},
   "outputs": [
    {
     "name": "stdout",
     "output_type": "stream",
     "text": [
      "I like ice creams\n"
     ]
    }
   ],
   "source": [
    "a1 = 'I'\n",
    "a2 = 'like'\n",
    "a3 = 'ice creams'\n",
    "print(a1,a2,a3)"
   ]
  },
  {
   "cell_type": "code",
   "execution_count": 22,
   "metadata": {},
   "outputs": [
    {
     "name": "stdout",
     "output_type": "stream",
     "text": [
      "y\n",
      "s\n",
      " \n"
     ]
    }
   ],
   "source": [
    "# String Datatype with indexing\n",
    "sentence = 'today is a wonderful day'\n",
    "print(sentence[4])\n",
    "print(sentence[7])\n",
    "print(sentence[8])"
   ]
  },
  {
   "cell_type": "code",
   "execution_count": 23,
   "metadata": {},
   "outputs": [
    {
     "name": "stdout",
     "output_type": "stream",
     "text": [
      "<class 'int'>\n"
     ]
    }
   ],
   "source": [
    "# Practice 25 Nov 22\n",
    "a=12\n",
    "print(type(a))"
   ]
  },
  {
   "cell_type": "code",
   "execution_count": 24,
   "metadata": {},
   "outputs": [
    {
     "name": "stdout",
     "output_type": "stream",
     "text": [
      "<class 'float'>\n"
     ]
    }
   ],
   "source": [
    "b=12.5\n",
    "print(type(b))"
   ]
  },
  {
   "cell_type": "code",
   "execution_count": 25,
   "metadata": {},
   "outputs": [
    {
     "name": "stdout",
     "output_type": "stream",
     "text": [
      "12.54677879664\n"
     ]
    }
   ],
   "source": [
    "c = 12.54677879664\n",
    "print(c)"
   ]
  },
  {
   "cell_type": "code",
   "execution_count": 26,
   "metadata": {},
   "outputs": [
    {
     "name": "stdout",
     "output_type": "stream",
     "text": [
      "8\n"
     ]
    }
   ],
   "source": [
    "# complex numbers\n",
    "# real + imaginary number\n",
    "d=2*4\n",
    "print(d)"
   ]
  },
  {
   "cell_type": "code",
   "execution_count": 27,
   "metadata": {},
   "outputs": [
    {
     "name": "stdout",
     "output_type": "stream",
     "text": [
      "28\n"
     ]
    }
   ],
   "source": [
    "e = -7 * -4\n",
    "print(e)"
   ]
  },
  {
   "cell_type": "code",
   "execution_count": 28,
   "metadata": {},
   "outputs": [
    {
     "name": "stdout",
     "output_type": "stream",
     "text": [
      "32j <class 'complex'>\n",
      "-0.5j\n"
     ]
    }
   ],
   "source": [
    "e = -8 * -4j\n",
    "print(e,type(e))\n",
    "e1 = 2/4j\n",
    "print(e1)"
   ]
  },
  {
   "cell_type": "code",
   "execution_count": 29,
   "metadata": {},
   "outputs": [
    {
     "name": "stdout",
     "output_type": "stream",
     "text": [
      "4 <class 'str'>\n"
     ]
    }
   ],
   "source": [
    "# data type casting\n",
    "\n",
    "f = str(4)\n",
    "print(f,type(f))"
   ]
  },
  {
   "cell_type": "code",
   "execution_count": 30,
   "metadata": {},
   "outputs": [
    {
     "name": "stdout",
     "output_type": "stream",
     "text": [
      "5.0 <class 'float'>\n"
     ]
    }
   ],
   "source": [
    "g = float(5)\n",
    "print(g,type(g))"
   ]
  },
  {
   "cell_type": "code",
   "execution_count": 31,
   "metadata": {},
   "outputs": [
    {
     "name": "stdout",
     "output_type": "stream",
     "text": [
      "hippopotamus <class 'str'>\n",
      "u\n",
      "t\n"
     ]
    }
   ],
   "source": [
    "animal = 'hippopotamus'\n",
    "print(animal,type(animal))\n",
    "print(animal[10])\n",
    "print(animal[-5])"
   ]
  },
  {
   "cell_type": "code",
   "execution_count": 32,
   "metadata": {},
   "outputs": [
    {
     "name": "stdout",
     "output_type": "stream",
     "text": [
      "12\n"
     ]
    }
   ],
   "source": [
    "print(len(animal))"
   ]
  },
  {
   "cell_type": "code",
   "execution_count": 33,
   "metadata": {},
   "outputs": [
    {
     "name": "stdout",
     "output_type": "stream",
     "text": [
      "27\n"
     ]
    }
   ],
   "source": [
    "actor = 'akshay kumar is a superstar'\n",
    "print(len(actor))"
   ]
  },
  {
   "cell_type": "code",
   "execution_count": 34,
   "metadata": {},
   "outputs": [
    {
     "name": "stdout",
     "output_type": "stream",
     "text": [
      "True\n"
     ]
    }
   ],
   "source": [
    "# check string\n",
    "msg = 'today is the last day of earth'\n",
    "print(\"the\" in msg)"
   ]
  },
  {
   "cell_type": "code",
   "execution_count": 35,
   "metadata": {},
   "outputs": [
    {
     "name": "stdout",
     "output_type": "stream",
     "text": [
      "False\n"
     ]
    }
   ],
   "source": [
    "print('why' in msg)"
   ]
  },
  {
   "cell_type": "code",
   "execution_count": 36,
   "metadata": {},
   "outputs": [
    {
     "name": "stdout",
     "output_type": "stream",
     "text": [
      "False\n"
     ]
    }
   ],
   "source": [
    "print('Today' in msg)"
   ]
  },
  {
   "cell_type": "code",
   "execution_count": 37,
   "metadata": {},
   "outputs": [],
   "source": [
    "# slicing\n",
    "saturday = 'I want everyone to be present tomorrow'"
   ]
  },
  {
   "cell_type": "code",
   "execution_count": 38,
   "metadata": {},
   "outputs": [
    {
     "name": "stdout",
     "output_type": "stream",
     "text": [
      "want\n"
     ]
    }
   ],
   "source": [
    "print(saturday[2:6])"
   ]
  },
  {
   "cell_type": "code",
   "execution_count": 39,
   "metadata": {},
   "outputs": [
    {
     "name": "stdout",
     "output_type": "stream",
     "text": [
      " want everyone to be present tomorrow\n"
     ]
    }
   ],
   "source": [
    "print(saturday[1:])"
   ]
  },
  {
   "cell_type": "code",
   "execution_count": 40,
   "metadata": {},
   "outputs": [
    {
     "name": "stdout",
     "output_type": "stream",
     "text": [
      "I wan\n"
     ]
    }
   ],
   "source": [
    "print(saturday[:5])"
   ]
  },
  {
   "cell_type": "code",
   "execution_count": 41,
   "metadata": {},
   "outputs": [
    {
     "name": "stdout",
     "output_type": "stream",
     "text": [
      "I want everyone to be present tomorrow\n"
     ]
    }
   ],
   "source": [
    "print(saturday[::])"
   ]
  },
  {
   "cell_type": "code",
   "execution_count": 42,
   "metadata": {},
   "outputs": [
    {
     "name": "stdout",
     "output_type": "stream",
     "text": [
      "I want everyone to be present tomorrow\n"
     ]
    }
   ],
   "source": [
    "print(saturday[:])"
   ]
  },
  {
   "cell_type": "code",
   "execution_count": 43,
   "metadata": {},
   "outputs": [
    {
     "name": "stdout",
     "output_type": "stream",
     "text": [
      "w\n"
     ]
    }
   ],
   "source": [
    "print(saturday[-1])"
   ]
  },
  {
   "cell_type": "code",
   "execution_count": 44,
   "metadata": {},
   "outputs": [
    {
     "name": "stdout",
     "output_type": "stream",
     "text": [
      "one to be present tomorro\n"
     ]
    }
   ],
   "source": [
    "print(saturday[-26:-1])"
   ]
  },
  {
   "cell_type": "code",
   "execution_count": 45,
   "metadata": {},
   "outputs": [
    {
     "name": "stdout",
     "output_type": "stream",
     "text": [
      "tomorrow\n"
     ]
    }
   ],
   "source": [
    "print(saturday[-8:])"
   ]
  },
  {
   "cell_type": "code",
   "execution_count": 46,
   "metadata": {},
   "outputs": [
    {
     "name": "stdout",
     "output_type": "stream",
     "text": [
      "I want everyone to be present tomorro\n"
     ]
    }
   ],
   "source": [
    "print(saturday[0:-1])"
   ]
  },
  {
   "cell_type": "code",
   "execution_count": 47,
   "metadata": {},
   "outputs": [
    {
     "name": "stdout",
     "output_type": "stream",
     "text": [
      "worrom\n"
     ]
    }
   ],
   "source": [
    "print(saturday[-1:-7:-1])"
   ]
  },
  {
   "cell_type": "code",
   "execution_count": 48,
   "metadata": {},
   "outputs": [
    {
     "name": "stdout",
     "output_type": "stream",
     "text": [
      "john\n",
      "john\n"
     ]
    }
   ],
   "source": [
    "name = 'john parker'\n",
    "print(name[0:4])\n",
    "print(name[-11:-7])"
   ]
  },
  {
   "cell_type": "code",
   "execution_count": 49,
   "metadata": {},
   "outputs": [
    {
     "name": "stdout",
     "output_type": "stream",
     "text": [
      "nhoj\n",
      "\n"
     ]
    }
   ],
   "source": [
    "print(name[-8::-1])\n",
    "print(name[-1:-8])"
   ]
  },
  {
   "cell_type": "code",
   "execution_count": 50,
   "metadata": {},
   "outputs": [
    {
     "name": "stdout",
     "output_type": "stream",
     "text": [
      "SHUBHAM\n"
     ]
    }
   ],
   "source": [
    "# Upper method\n",
    "name3 = 'shubham'\n",
    "print(name3.upper())"
   ]
  },
  {
   "cell_type": "code",
   "execution_count": 51,
   "metadata": {},
   "outputs": [
    {
     "name": "stdout",
     "output_type": "stream",
     "text": [
      "shubham\n"
     ]
    }
   ],
   "source": [
    "# Lower function\n",
    "name4 = 'SHUbham'\n",
    "print(name4.lower())"
   ]
  },
  {
   "cell_type": "code",
   "execution_count": 52,
   "metadata": {},
   "outputs": [],
   "source": [
    "# replace method\n",
    "name5 = 'i love my country'"
   ]
  },
  {
   "cell_type": "code",
   "execution_count": 53,
   "metadata": {},
   "outputs": [
    {
     "name": "stdout",
     "output_type": "stream",
     "text": [
      "i love my india\n"
     ]
    }
   ],
   "source": [
    "print(name5.replace('country','india'))"
   ]
  },
  {
   "cell_type": "code",
   "execution_count": 54,
   "metadata": {},
   "outputs": [
    {
     "name": "stdout",
     "output_type": "stream",
     "text": [
      "Tumbbad\n",
      "Tumbbad\n",
      "Tumbbad\n",
      "tumbbad\n"
     ]
    }
   ],
   "source": [
    "# changing first character into a upper case\n",
    "movie = 'tumbbad'\n",
    "# storing the print output into a new variable\n",
    "movie1 = movie.capitalize()\n",
    "print(movie.capitalize())\n",
    "print(movie.title())\n",
    "print(movie1)\n",
    "print(movie)"
   ]
  },
  {
   "cell_type": "code",
   "execution_count": 55,
   "metadata": {},
   "outputs": [
    {
     "name": "stdout",
     "output_type": "stream",
     "text": [
      "False\n"
     ]
    }
   ],
   "source": [
    "# check if the string ends with a particular element\n",
    "sentence = 'This is ML Batch 11'\n",
    "print(sentence.endswith('batch'))"
   ]
  },
  {
   "cell_type": "code",
   "execution_count": 56,
   "metadata": {},
   "outputs": [
    {
     "name": "stdout",
     "output_type": "stream",
     "text": [
      "False\n"
     ]
    }
   ],
   "source": [
    "print(sentence.startswith('this'))"
   ]
  },
  {
   "cell_type": "code",
   "execution_count": 57,
   "metadata": {},
   "outputs": [
    {
     "name": "stdout",
     "output_type": "stream",
     "text": [
      "True\n"
     ]
    }
   ],
   "source": [
    "surname = 'India will win todays match'\n",
    "print(surname.endswith('matc',-6,-1))"
   ]
  },
  {
   "cell_type": "code",
   "execution_count": 58,
   "metadata": {},
   "outputs": [
    {
     "name": "stdout",
     "output_type": "stream",
     "text": [
      "     dadda tyagi    \n",
      "dadda tyagi\n",
      "dadda tyagi    \n",
      "     dadda tyagi\n"
     ]
    }
   ],
   "source": [
    "# strip function is use to remove white spaces\n",
    "name5 = '     dadda tyagi    '\n",
    "print(name5)\n",
    "# strip\n",
    "print(name5.strip())\n",
    "# left strip\n",
    "print(name5.lstrip())\n",
    "# right strip\n",
    "print(name5.rstrip())"
   ]
  },
  {
   "cell_type": "code",
   "execution_count": 59,
   "metadata": {},
   "outputs": [
    {
     "name": "stdout",
     "output_type": "stream",
     "text": [
      "['hello', 'shreyash', 'myakal']\n"
     ]
    }
   ],
   "source": [
    "# split\n",
    "a = 'hello,shreyash,myakal'\n",
    "print(a.split(\",\"))"
   ]
  },
  {
   "cell_type": "code",
   "execution_count": 60,
   "metadata": {},
   "outputs": [
    {
     "name": "stdout",
     "output_type": "stream",
     "text": [
      "['prajwal', 'deshpande']\n"
     ]
    }
   ],
   "source": [
    "a = 'prajwal#deshpande'\n",
    "print(a.split(\"#\"))"
   ]
  },
  {
   "cell_type": "code",
   "execution_count": 61,
   "metadata": {},
   "outputs": [
    {
     "name": "stdout",
     "output_type": "stream",
     "text": [
      "my name shreyash, my age is 22\n"
     ]
    }
   ],
   "source": [
    "age = 22\n",
    "txt = 'my name shreyash, my age is {}'\n",
    "print(txt.format(age))"
   ]
  },
  {
   "cell_type": "code",
   "execution_count": 62,
   "metadata": {},
   "outputs": [
    {
     "name": "stdout",
     "output_type": "stream",
     "text": [
      "my name is Tukaram, my age is 22\n"
     ]
    }
   ],
   "source": [
    "name = 'Tukaram'\n",
    "age = 22\n",
    "txt = 'my name is {0}, my age is {1}'\n",
    "print(txt.format(name,age))"
   ]
  },
  {
   "cell_type": "code",
   "execution_count": 63,
   "metadata": {},
   "outputs": [
    {
     "name": "stdout",
     "output_type": "stream",
     "text": [
      "my name is Tukaram, my age is 22, I live in Hostel\n"
     ]
    }
   ],
   "source": [
    "name = 'Tukaram'\n",
    "age = 22\n",
    "address = 'Hostel'\n",
    "txt = 'my name is {}, my age is {}, I live in {}'\n",
    "print(txt.format(name,age,address))"
   ]
  },
  {
   "cell_type": "code",
   "execution_count": 64,
   "metadata": {},
   "outputs": [
    {
     "name": "stdout",
     "output_type": "stream",
     "text": [
      "my name is Tukaram, my age is 22, I live in Hostel\n"
     ]
    }
   ],
   "source": [
    "name = 'Tukaram'\n",
    "age = 22\n",
    "address = 'Hostel'\n",
    "txt = 'my name is {0}, my age is {2}, I live in {1}'\n",
    "print(txt.format(name,address,age))"
   ]
  },
  {
   "cell_type": "markdown",
   "metadata": {},
   "source": [
    "# Lists\n",
    "## List are heterogeneous\n",
    "## List are changeable --> mutable (we can add,remove or change)\n",
    "## List are indexed\n",
    "## List are ordered\n",
    "## Lists allows duplicate values"
   ]
  },
  {
   "cell_type": "code",
   "execution_count": 65,
   "metadata": {},
   "outputs": [
    {
     "name": "stdout",
     "output_type": "stream",
     "text": [
      "['sugar', 'apple', 'grapes', 'kiwi'] <class 'list'>\n"
     ]
    }
   ],
   "source": [
    "items = ['sugar','apple','grapes','kiwi']\n",
    "print(items,type(items))"
   ]
  },
  {
   "cell_type": "code",
   "execution_count": 66,
   "metadata": {},
   "outputs": [
    {
     "name": "stdout",
     "output_type": "stream",
     "text": [
      "[1, 2, 3, 400, 500, 600] <class 'list'>\n"
     ]
    }
   ],
   "source": [
    "items1 = [1,2,3,400,500,600]\n",
    "print(items1,type(items1))"
   ]
  },
  {
   "cell_type": "code",
   "execution_count": 67,
   "metadata": {},
   "outputs": [
    {
     "name": "stdout",
     "output_type": "stream",
     "text": [
      "['cupboard', 'television', 'mobile', 500, 600, 'projector', 1000, 200.34, 3j] <class 'list'>\n"
     ]
    }
   ],
   "source": [
    "items2 = ['cupboard','television','mobile',500,600,'projector',1000,200.34,3j]\n",
    "print(items2,type(items2))"
   ]
  },
  {
   "cell_type": "code",
   "execution_count": 68,
   "metadata": {},
   "outputs": [
    {
     "name": "stdout",
     "output_type": "stream",
     "text": [
      "<class 'list'>\n",
      "['ajay devgan', 'akshay kumar', 'salman bhoi', 'SRK', 'Kartik', 'Rajpal yadav']\n"
     ]
    }
   ],
   "source": [
    "actors = list(('ajay devgan','akshay kumar','salman bhoi','SRK','Kartik','Rajpal yadav'))\n",
    "print(type(actors))\n",
    "print(actors)"
   ]
  },
  {
   "cell_type": "code",
   "execution_count": 69,
   "metadata": {},
   "outputs": [
    {
     "name": "stdout",
     "output_type": "stream",
     "text": [
      "salman bhoi\n",
      "salman bhoi\n",
      "['akshay kumar', 'salman bhoi', 'SRK']\n",
      "['salman bhoi']\n",
      "['salman bhoi']\n"
     ]
    }
   ],
   "source": [
    "print(actors[2]) # positive index\n",
    "print(actors[-4]) # negative index\n",
    "print(actors[1:4]) # slicing\n",
    "print(actors[-4:-3])# negative inding in forward slcing\n",
    "print(actors[-4:-5:-1]) #negative indexing and reverse slicing....\n"
   ]
  },
  {
   "cell_type": "code",
   "execution_count": 70,
   "metadata": {},
   "outputs": [
    {
     "name": "stdout",
     "output_type": "stream",
     "text": [
      "['carrot', 'potato', 'tomato', 'ginger', 'garlic']\n"
     ]
    }
   ],
   "source": [
    "veg = ['onion', 'potato', 'tomato', 'ginger', 'garlic']\n",
    "veg[0] = 'carrot'\n",
    "print(veg)"
   ]
  },
  {
   "cell_type": "markdown",
   "metadata": {},
   "source": [
    "## Sets"
   ]
  },
  {
   "cell_type": "markdown",
   "metadata": {},
   "source": [
    "## Dictionary\n",
    "\n",
    "### Dictionary are ordered collection of key:value pairs\n",
    "### Dictionary are mutable\n",
    "### Dictionary doesn't allow duplicate keys\n",
    "### Dictionary use curly brackets to store the data"
   ]
  },
  {
   "cell_type": "code",
   "execution_count": 71,
   "metadata": {},
   "outputs": [],
   "source": [
    "items = {1:'Marker',2:'Duster',3:'Register',4:'Mobie'}"
   ]
  },
  {
   "cell_type": "code",
   "execution_count": 72,
   "metadata": {},
   "outputs": [
    {
     "name": "stdout",
     "output_type": "stream",
     "text": [
      "{1: 'Marker', 2: 'Duster', 3: 'Register', 4: 'Mobie'}\n",
      "<class 'dict'>\n"
     ]
    }
   ],
   "source": [
    "print(items)\n",
    "print(type(items))"
   ]
  },
  {
   "cell_type": "code",
   "execution_count": 73,
   "metadata": {},
   "outputs": [],
   "source": [
    "# We use double quotes (\"\") or \\' for a string when we have single inverted(') in a character or element\n",
    "str = 'Today is Pratik\\'s birthday'\n",
    "str1 = \"Today is Pratik's birthday\""
   ]
  },
  {
   "cell_type": "code",
   "execution_count": 74,
   "metadata": {},
   "outputs": [
    {
     "name": "stdout",
     "output_type": "stream",
     "text": [
      "Today is Pratik's birthday\n",
      "Today is Pratik's birthday\n"
     ]
    }
   ],
   "source": [
    "print(str)\n",
    "print(str1)"
   ]
  },
  {
   "cell_type": "code",
   "execution_count": 75,
   "metadata": {},
   "outputs": [],
   "source": [
    "shubham_address = {\n",
    "    'lane no' : '44/3',\n",
    "    'landmark' : 'near someshwar mandir',\n",
    "    'locality' : 'chandan nagar',\n",
    "    'city' : 'Pune'\n",
    "}"
   ]
  },
  {
   "cell_type": "code",
   "execution_count": 76,
   "metadata": {},
   "outputs": [
    {
     "name": "stdout",
     "output_type": "stream",
     "text": [
      "{'lane no': '44/3', 'landmark': 'near someshwar mandir', 'locality': 'chandan nagar', 'city': 'Pune'}\n",
      "44/3\n",
      "Pune\n",
      "chandan nagar\n"
     ]
    }
   ],
   "source": [
    "print(shubham_address)\n",
    "print(shubham_address['lane no'])\n",
    "print(shubham_address['city'])\n",
    "print(shubham_address['locality'])"
   ]
  },
  {
   "cell_type": "code",
   "execution_count": 77,
   "metadata": {},
   "outputs": [
    {
     "name": "stdout",
     "output_type": "stream",
     "text": [
      "chandan nagar\n",
      "chandan nagar\n"
     ]
    }
   ],
   "source": [
    "# to retrieve any key we can use get() function\n",
    "x = shubham_address.get('locality')\n",
    "print(x)\n",
    "p = shubham_address['locality']\n",
    "print(p)"
   ]
  },
  {
   "cell_type": "code",
   "execution_count": 78,
   "metadata": {},
   "outputs": [
    {
     "name": "stdout",
     "output_type": "stream",
     "text": [
      "dict_keys(['lane no', 'landmark', 'locality', 'city'])\n",
      "dict_values(['44/3', 'near someshwar mandir', 'chandan nagar', 'Pune'])\n"
     ]
    }
   ],
   "source": [
    "# keys() function is used to retrieve all the keys from dictionary\n",
    "print(shubham_address.keys())\n",
    "\n",
    "# values() function is used to retrieve all the keys from dictionary\n",
    "print(shubham_address.values())"
   ]
  },
  {
   "cell_type": "code",
   "execution_count": 79,
   "metadata": {},
   "outputs": [
    {
     "data": {
      "text/plain": [
       "'near someshwar mandir'"
      ]
     },
     "execution_count": 79,
     "metadata": {},
     "output_type": "execute_result"
    }
   ],
   "source": [
    "#  removing key value with the help of pop() function\n",
    "shubham_address.pop('landmark')"
   ]
  },
  {
   "cell_type": "code",
   "execution_count": 80,
   "metadata": {},
   "outputs": [
    {
     "name": "stdout",
     "output_type": "stream",
     "text": [
      "dict_keys(['lane no', 'locality', 'city'])\n",
      "dict_values(['44/3', 'chandan nagar', 'Pune'])\n"
     ]
    }
   ],
   "source": [
    "print(shubham_address.keys())\n",
    "print(shubham_address.values())"
   ]
  },
  {
   "cell_type": "code",
   "execution_count": 81,
   "metadata": {},
   "outputs": [],
   "source": [
    "# updating perticular key\n",
    "shubham_address['city'] = 'Banglore'"
   ]
  },
  {
   "cell_type": "code",
   "execution_count": 82,
   "metadata": {},
   "outputs": [
    {
     "data": {
      "text/plain": [
       "{'lane no': '44/3', 'locality': 'chandan nagar', 'city': 'Banglore'}"
      ]
     },
     "execution_count": 82,
     "metadata": {},
     "output_type": "execute_result"
    }
   ],
   "source": [
    "shubham_address"
   ]
  },
  {
   "cell_type": "code",
   "execution_count": 83,
   "metadata": {},
   "outputs": [],
   "source": [
    "shubham_address['Country'] = 'India'"
   ]
  },
  {
   "cell_type": "code",
   "execution_count": 84,
   "metadata": {},
   "outputs": [
    {
     "data": {
      "text/plain": [
       "{'lane no': '44/3',\n",
       " 'locality': 'chandan nagar',\n",
       " 'city': 'Banglore',\n",
       " 'Country': 'India'}"
      ]
     },
     "execution_count": 84,
     "metadata": {},
     "output_type": "execute_result"
    }
   ],
   "source": [
    "shubham_address"
   ]
  },
  {
   "cell_type": "code",
   "execution_count": 85,
   "metadata": {},
   "outputs": [],
   "source": [
    "# update() function is also used to update the key\n",
    "shubham_address.update({'Country':'Qatar'})"
   ]
  },
  {
   "cell_type": "code",
   "execution_count": 86,
   "metadata": {},
   "outputs": [
    {
     "data": {
      "text/plain": [
       "{'lane no': '44/3',\n",
       " 'locality': 'chandan nagar',\n",
       " 'city': 'Banglore',\n",
       " 'Country': 'Qatar'}"
      ]
     },
     "execution_count": 86,
     "metadata": {},
     "output_type": "execute_result"
    }
   ],
   "source": [
    "shubham_address"
   ]
  },
  {
   "cell_type": "code",
   "execution_count": 87,
   "metadata": {},
   "outputs": [
    {
     "name": "stdout",
     "output_type": "stream",
     "text": [
      "{'lane no': '44/3', 'locality': 'chandan nagar', 'city': 'Banglore'}\n"
     ]
    }
   ],
   "source": [
    "# popitem() function is used to remove last added item\n",
    "shubham_address.popitem()\n",
    "print(shubham_address)"
   ]
  },
  {
   "cell_type": "code",
   "execution_count": 88,
   "metadata": {},
   "outputs": [],
   "source": [
    "add = shubham_address.copy()"
   ]
  },
  {
   "cell_type": "code",
   "execution_count": 89,
   "metadata": {},
   "outputs": [
    {
     "data": {
      "text/plain": [
       "{'lane no': '44/3', 'locality': 'chandan nagar', 'city': 'Banglore'}"
      ]
     },
     "execution_count": 89,
     "metadata": {},
     "output_type": "execute_result"
    }
   ],
   "source": [
    "add"
   ]
  },
  {
   "cell_type": "code",
   "execution_count": 90,
   "metadata": {},
   "outputs": [
    {
     "data": {
      "text/plain": [
       "{'lane no': '44/3', 'locality': 'chandan nagar', 'city': 'Banglore'}"
      ]
     },
     "execution_count": 90,
     "metadata": {},
     "output_type": "execute_result"
    }
   ],
   "source": [
    "add1 = shubham_address\n",
    "add1"
   ]
  },
  {
   "cell_type": "code",
   "execution_count": 91,
   "metadata": {},
   "outputs": [],
   "source": [
    "# Nested dictionary\n",
    "shoeb = {\n",
    "    'personal_info' : {'name':'shoeb',\n",
    "                      'DOB':'21/06/99'},\n",
    "    'address' : {'locality':'nandurbar',\n",
    "                'state':'maharashtra'},\n",
    "    'education': {'SSC':'pass',\n",
    "                 'HSC':'pass'}\n",
    "}"
   ]
  },
  {
   "cell_type": "code",
   "execution_count": 92,
   "metadata": {},
   "outputs": [
    {
     "data": {
      "text/plain": [
       "{'personal_info': {'name': 'shoeb', 'DOB': '21/06/99'},\n",
       " 'address': {'locality': 'nandurbar', 'state': 'maharashtra'},\n",
       " 'education': {'SSC': 'pass', 'HSC': 'pass'}}"
      ]
     },
     "execution_count": 92,
     "metadata": {},
     "output_type": "execute_result"
    }
   ],
   "source": [
    "shoeb"
   ]
  },
  {
   "cell_type": "code",
   "execution_count": 93,
   "metadata": {},
   "outputs": [
    {
     "name": "stdout",
     "output_type": "stream",
     "text": [
      "pass\n"
     ]
    }
   ],
   "source": [
    "temp = shoeb['education']\n",
    "print(temp['HSC'])"
   ]
  },
  {
   "cell_type": "code",
   "execution_count": 94,
   "metadata": {},
   "outputs": [
    {
     "name": "stdout",
     "output_type": "stream",
     "text": [
      "pass\n"
     ]
    }
   ],
   "source": [
    "print(shoeb['education']['HSC'])"
   ]
  },
  {
   "cell_type": "code",
   "execution_count": 95,
   "metadata": {},
   "outputs": [
    {
     "name": "stdout",
     "output_type": "stream",
     "text": [
      "dict_items([('SSC', 'pass'), ('HSC', 'pass')])\n"
     ]
    }
   ],
   "source": [
    "print(shoeb['education'].items())"
   ]
  },
  {
   "cell_type": "markdown",
   "metadata": {},
   "source": [
    "# Boolean \n",
    "### Boolean represents true or false"
   ]
  },
  {
   "cell_type": "code",
   "execution_count": 96,
   "metadata": {},
   "outputs": [
    {
     "data": {
      "text/plain": [
       "True"
      ]
     },
     "execution_count": 96,
     "metadata": {},
     "output_type": "execute_result"
    }
   ],
   "source": [
    "10 == 10"
   ]
  },
  {
   "cell_type": "code",
   "execution_count": 97,
   "metadata": {},
   "outputs": [
    {
     "data": {
      "text/plain": [
       "True"
      ]
     },
     "execution_count": 97,
     "metadata": {},
     "output_type": "execute_result"
    }
   ],
   "source": [
    "10 > 3"
   ]
  },
  {
   "cell_type": "code",
   "execution_count": 98,
   "metadata": {},
   "outputs": [
    {
     "data": {
      "text/plain": [
       "False"
      ]
     },
     "execution_count": 98,
     "metadata": {},
     "output_type": "execute_result"
    }
   ],
   "source": [
    "10 < 3"
   ]
  },
  {
   "cell_type": "code",
   "execution_count": 99,
   "metadata": {},
   "outputs": [
    {
     "data": {
      "text/plain": [
       "False"
      ]
     },
     "execution_count": 99,
     "metadata": {},
     "output_type": "execute_result"
    }
   ],
   "source": [
    "10 != 10"
   ]
  },
  {
   "cell_type": "code",
   "execution_count": 100,
   "metadata": {},
   "outputs": [
    {
     "data": {
      "text/plain": [
       "False"
      ]
     },
     "execution_count": 100,
     "metadata": {},
     "output_type": "execute_result"
    }
   ],
   "source": [
    "bool(0)"
   ]
  },
  {
   "cell_type": "code",
   "execution_count": 101,
   "metadata": {},
   "outputs": [
    {
     "data": {
      "text/plain": [
       "True"
      ]
     },
     "execution_count": 101,
     "metadata": {},
     "output_type": "execute_result"
    }
   ],
   "source": [
    "bool(1)"
   ]
  },
  {
   "cell_type": "code",
   "execution_count": 102,
   "metadata": {},
   "outputs": [
    {
     "data": {
      "text/plain": [
       "True"
      ]
     },
     "execution_count": 102,
     "metadata": {},
     "output_type": "execute_result"
    }
   ],
   "source": [
    "bool(-5)"
   ]
  },
  {
   "cell_type": "code",
   "execution_count": 103,
   "metadata": {},
   "outputs": [
    {
     "data": {
      "text/plain": [
       "False"
      ]
     },
     "execution_count": 103,
     "metadata": {},
     "output_type": "execute_result"
    }
   ],
   "source": [
    "bool('')"
   ]
  },
  {
   "cell_type": "code",
   "execution_count": 104,
   "metadata": {},
   "outputs": [
    {
     "data": {
      "text/plain": [
       "True"
      ]
     },
     "execution_count": 104,
     "metadata": {},
     "output_type": "execute_result"
    }
   ],
   "source": [
    "bool('programming')"
   ]
  },
  {
   "cell_type": "code",
   "execution_count": 105,
   "metadata": {},
   "outputs": [
    {
     "data": {
      "text/plain": [
       "False"
      ]
     },
     "execution_count": 105,
     "metadata": {},
     "output_type": "execute_result"
    }
   ],
   "source": [
    "bool()"
   ]
  },
  {
   "cell_type": "code",
   "execution_count": 106,
   "metadata": {},
   "outputs": [
    {
     "data": {
      "text/plain": [
       "True"
      ]
     },
     "execution_count": 106,
     "metadata": {},
     "output_type": "execute_result"
    }
   ],
   "source": [
    "bool(['apple','banana'])"
   ]
  },
  {
   "cell_type": "code",
   "execution_count": 107,
   "metadata": {},
   "outputs": [
    {
     "data": {
      "text/plain": [
       "False"
      ]
     },
     "execution_count": 107,
     "metadata": {},
     "output_type": "execute_result"
    }
   ],
   "source": [
    "bool([])"
   ]
  },
  {
   "cell_type": "code",
   "execution_count": 108,
   "metadata": {},
   "outputs": [
    {
     "data": {
      "text/plain": [
       "False"
      ]
     },
     "execution_count": 108,
     "metadata": {},
     "output_type": "execute_result"
    }
   ],
   "source": [
    "bool(())"
   ]
  },
  {
   "cell_type": "markdown",
   "metadata": {},
   "source": [
    "## Operators in python"
   ]
  },
  {
   "cell_type": "code",
   "execution_count": 109,
   "metadata": {},
   "outputs": [
    {
     "data": {
      "text/plain": [
       "150"
      ]
     },
     "execution_count": 109,
     "metadata": {},
     "output_type": "execute_result"
    }
   ],
   "source": [
    "# Arithmetic Operators\n",
    "100 + 50"
   ]
  },
  {
   "cell_type": "code",
   "execution_count": 110,
   "metadata": {},
   "outputs": [
    {
     "data": {
      "text/plain": [
       "150"
      ]
     },
     "execution_count": 110,
     "metadata": {},
     "output_type": "execute_result"
    }
   ],
   "source": [
    "x = 100\n",
    "y = 50\n",
    "x + y"
   ]
  },
  {
   "cell_type": "code",
   "execution_count": 111,
   "metadata": {},
   "outputs": [
    {
     "data": {
      "text/plain": [
       "100"
      ]
     },
     "execution_count": 111,
     "metadata": {},
     "output_type": "execute_result"
    }
   ],
   "source": [
    "x1 = 20\n",
    "x2 = 5\n",
    "x1 * x2"
   ]
  },
  {
   "cell_type": "code",
   "execution_count": 112,
   "metadata": {},
   "outputs": [
    {
     "data": {
      "text/plain": [
       "4.0"
      ]
     },
     "execution_count": 112,
     "metadata": {},
     "output_type": "execute_result"
    }
   ],
   "source": [
    "x1 / x2"
   ]
  },
  {
   "cell_type": "code",
   "execution_count": 113,
   "metadata": {},
   "outputs": [
    {
     "data": {
      "text/plain": [
       "0"
      ]
     },
     "execution_count": 113,
     "metadata": {},
     "output_type": "execute_result"
    }
   ],
   "source": [
    "x1 % x2"
   ]
  },
  {
   "cell_type": "code",
   "execution_count": 114,
   "metadata": {},
   "outputs": [
    {
     "data": {
      "text/plain": [
       "3200000"
      ]
     },
     "execution_count": 114,
     "metadata": {},
     "output_type": "execute_result"
    }
   ],
   "source": [
    "x1 ** x2"
   ]
  },
  {
   "cell_type": "code",
   "execution_count": 115,
   "metadata": {},
   "outputs": [
    {
     "data": {
      "text/plain": [
       "4"
      ]
     },
     "execution_count": 115,
     "metadata": {},
     "output_type": "execute_result"
    }
   ],
   "source": [
    "x1 // x2"
   ]
  },
  {
   "cell_type": "code",
   "execution_count": 116,
   "metadata": {},
   "outputs": [
    {
     "name": "stdout",
     "output_type": "stream",
     "text": [
      "Addition is :  15\n",
      "Subtraction is :  5\n",
      "Multiplication is :  50\n",
      "Division is :  2.0\n",
      "Modulus is :  0\n",
      "Exponentiation is :  100000\n",
      "Floor Division is :  2\n"
     ]
    }
   ],
   "source": [
    "# Assignment Operator hw\n",
    "x1 = 10\n",
    "x1 += 5\n",
    "#hw\n",
    "x = 10\n",
    "y = 5\n",
    "print('Addition is : ',(x+y))\n",
    "print('Subtraction is : ',(x-y))\n",
    "print('Multiplication is : ',(x*y))\n",
    "print('Division is : ',(x/y))\n",
    "print('Modulus is : ',(x%y))\n",
    "print('Exponentiation is : ',(x**y))\n",
    "print('Floor Division is : ',(x//y))"
   ]
  },
  {
   "cell_type": "code",
   "execution_count": 117,
   "metadata": {},
   "outputs": [
    {
     "name": "stdout",
     "output_type": "stream",
     "text": [
      "p & q are equal :  False\n",
      "p & q are not equal :  True\n",
      "p is greater than q :  True\n",
      "p is less than q :  False\n",
      "p is greater than or equal to q :  True\n",
      "p is less than or equal to q :  False\n"
     ]
    }
   ],
   "source": [
    "# Comparison Operators\n",
    "50 != 30\n",
    "p=10\n",
    "q=7\n",
    "print('p & q are equal : ',(p==y))\n",
    "print('p & q are not equal : ',(p!=y))\n",
    "print('p is greater than q : ',(p>q))\n",
    "print('p is less than q : ',(p<q))\n",
    "print('p is greater than or equal to q : ',(p>=q))\n",
    "print('p is less than or equal to q : ',(p<=q))"
   ]
  },
  {
   "cell_type": "code",
   "execution_count": 118,
   "metadata": {},
   "outputs": [
    {
     "name": "stdout",
     "output_type": "stream",
     "text": [
      "r > 5 and s < 60 :  True\n",
      "r > 5 or s < 40 :  False\n",
      "not(r>5 and s<60) :  False\n"
     ]
    }
   ],
   "source": [
    "# Logical Operators\n",
    "r=13\n",
    "s=55\n",
    "print('r > 5 and s < 60 : ',(r>5 and s<60))\n",
    "print('r > 5 or s < 40 : ',(r>5 and s<40))\n",
    "print('not(r>5 and s<60) : ',not(r>5 and s<60))"
   ]
  },
  {
   "cell_type": "code",
   "execution_count": 119,
   "metadata": {},
   "outputs": [
    {
     "name": "stdout",
     "output_type": "stream",
     "text": [
      "t is u :  True\n",
      "t is not u :  False\n"
     ]
    }
   ],
   "source": [
    "# Identity Operators\n",
    "t=32\n",
    "u=32\n",
    "print('t is u : ',t is u)\n",
    "print('t is not u : ',t is not u)"
   ]
  },
  {
   "cell_type": "code",
   "execution_count": 120,
   "metadata": {},
   "outputs": [
    {
     "name": "stdout",
     "output_type": "stream",
     "text": [
      "v & w : 0\n",
      "v | w : 14\n",
      "~v : -11\n",
      "v ^ w : 14\n"
     ]
    }
   ],
   "source": [
    "# Bitwise Operators\n",
    "v=10\n",
    "w=4\n",
    "# Bitwise AND\n",
    "print('v & w :',v & w)\n",
    "# Bitwise OR\n",
    "print('v | w :',v | w)\n",
    "# Bitwise NOT\n",
    "print('~v :',~v)\n",
    "# Bitwise XOR\n",
    "print('v ^ w :',v ^ w)"
   ]
  },
  {
   "cell_type": "markdown",
   "metadata": {},
   "source": [
    "# If else\n",
    "### if else is used for decision making\n",
    "### it is also known as conditional statement"
   ]
  },
  {
   "cell_type": "code",
   "execution_count": 121,
   "metadata": {},
   "outputs": [
    {
     "name": "stdout",
     "output_type": "stream",
     "text": [
      "You can purchase\n"
     ]
    }
   ],
   "source": [
    "# simple if\n",
    "budget = 'yes'\n",
    "if budget == 'yes':\n",
    "    print('You can purchase')"
   ]
  },
  {
   "cell_type": "code",
   "execution_count": 122,
   "metadata": {},
   "outputs": [],
   "source": [
    "# as condition is not getting satisfied it is not getting executed\n",
    "budget = 'no'\n",
    "if budget == 'yes':\n",
    "    print('You can purchase')"
   ]
  },
  {
   "cell_type": "code",
   "execution_count": 123,
   "metadata": {},
   "outputs": [
    {
     "name": "stdout",
     "output_type": "stream",
     "text": [
      "You can't buy\n"
     ]
    }
   ],
   "source": [
    "# if else statement\n",
    "budget = 'no'\n",
    "if budget == 'yes':\n",
    "    print('You can purchase')\n",
    "else:\n",
    "    print(\"You can't buy\")"
   ]
  },
  {
   "cell_type": "code",
   "execution_count": 124,
   "metadata": {},
   "outputs": [
    {
     "name": "stdout",
     "output_type": "stream",
     "text": [
      "Enter the budget :300\n",
      "Enter a valid value\n"
     ]
    }
   ],
   "source": [
    "# if else ladder\n",
    "budget = input('Enter the budget :')\n",
    "if budget == 'low':\n",
    "    print('Buy one item')\n",
    "elif budget =='medium':\n",
    "    print('Buy two items')\n",
    "elif budget =='high':\n",
    "    print('Buy three items')\n",
    "else:\n",
    "    print('Enter a valid value')"
   ]
  },
  {
   "cell_type": "code",
   "execution_count": 125,
   "metadata": {},
   "outputs": [
    {
     "name": "stdout",
     "output_type": "stream",
     "text": [
      "Sir, would you like to have tea? [y/n] : n\n",
      "Give me anything\n"
     ]
    }
   ],
   "source": [
    "# if else ladder weater = have tea\n",
    "#if yes serve the tea\n",
    "#else give me anything\n",
    "choice = input('Sir, would you like to have tea? [y/n] : ')\n",
    "if choice == 'yes':\n",
    "    print('Serve the tea')\n",
    "else:\n",
    "    print('Give me anything')"
   ]
  },
  {
   "cell_type": "code",
   "execution_count": 126,
   "metadata": {},
   "outputs": [
    {
     "name": "stdout",
     "output_type": "stream",
     "text": [
      "Sunny/Rainy/Cloudy : sunny\n",
      "I will stay at home\n"
     ]
    }
   ],
   "source": [
    "#rainy cloudy sunny\n",
    "#atmosphere\n",
    "#cloudy i will stay at home\n",
    "#rainy i would stay at home\n",
    "#sunny i would go out\n",
    "atmosphere = input('Sunny/Rainy/Cloudy : ')\n",
    "if atmosphere == 'Sunny':\n",
    "    print(\"I would go out\")\n",
    "else:\n",
    "    print(\"I will stay at home\")"
   ]
  },
  {
   "cell_type": "code",
   "execution_count": 127,
   "metadata": {},
   "outputs": [
    {
     "name": "stdout",
     "output_type": "stream",
     "text": [
      "How's tea? [hot/cold] : hot\n",
      "Yes, it is very hot ill cool it down and drink\n"
     ]
    }
   ],
   "source": [
    "# hot yes it is very hot il cool it down and drink \n",
    "#cold your service is very bad ill not come again\n",
    "#im not able to recognize\n",
    "service = input(\"How's tea? [hot/cold] : \")\n",
    "if service == 'hot':\n",
    "    print('Yes, it is very hot ill cool it down and drink')\n",
    "elif service == 'cold':\n",
    "    print('Your service is very bad ill not come again')\n",
    "else:\n",
    "    print(\"I'm not able to recognize\")"
   ]
  },
  {
   "cell_type": "code",
   "execution_count": 128,
   "metadata": {},
   "outputs": [
    {
     "name": "stdout",
     "output_type": "stream",
     "text": [
      "What is your choice : katrina\n",
      "Vicky Kaushal\n"
     ]
    }
   ],
   "source": [
    "choice = input('What is your choice : ')\n",
    "if choice == 'katrina':\n",
    "    print('Vicky Kaushal')\n",
    "elif choice == 'ranbir kapoor':\n",
    "    print(['alia','deepika'])\n",
    "else:\n",
    "    print('devdas')"
   ]
  },
  {
   "cell_type": "markdown",
   "metadata": {},
   "source": [
    "# For loop in python\n",
    "## it is used to iterate over a sequence i.e list, tuple, string, set"
   ]
  },
  {
   "cell_type": "code",
   "execution_count": 129,
   "metadata": {},
   "outputs": [
    {
     "name": "stdout",
     "output_type": "stream",
     "text": [
      "apple\n",
      "banana\n",
      "cherry\n",
      "pineapples\n"
     ]
    }
   ],
   "source": [
    "Fruits = ['apple','banana','cherry','pineapples']\n",
    "for x in Fruits:\n",
    "    print(x)"
   ]
  },
  {
   "cell_type": "code",
   "execution_count": 130,
   "metadata": {},
   "outputs": [
    {
     "name": "stdout",
     "output_type": "stream",
     "text": [
      "pineapples\n"
     ]
    }
   ],
   "source": [
    "print(x)"
   ]
  },
  {
   "cell_type": "code",
   "execution_count": 131,
   "metadata": {},
   "outputs": [
    {
     "name": "stdout",
     "output_type": "stream",
     "text": [
      "p1\n",
      "p2\n",
      "p3\n"
     ]
    }
   ],
   "source": [
    "pen = ['p1','p2','p3']\n",
    "for pens in pen:\n",
    "    print(pens)"
   ]
  },
  {
   "cell_type": "code",
   "execution_count": 132,
   "metadata": {},
   "outputs": [
    {
     "data": {
      "text/plain": [
       "'p3'"
      ]
     },
     "execution_count": 132,
     "metadata": {},
     "output_type": "execute_result"
    }
   ],
   "source": [
    "pens"
   ]
  },
  {
   "cell_type": "code",
   "execution_count": 133,
   "metadata": {},
   "outputs": [
    {
     "name": "stdout",
     "output_type": "stream",
     "text": [
      "offer the pen : p1\n",
      "offer the pen : p2\n",
      "offer the pen : p3\n"
     ]
    }
   ],
   "source": [
    "pen = ['p1','p2','p3']\n",
    "for pens in pen:\n",
    "    print('offer the pen :',pens)"
   ]
  },
  {
   "cell_type": "code",
   "execution_count": 134,
   "metadata": {},
   "outputs": [],
   "source": [
    "people = ('akash','prakash','nirash','avkash')"
   ]
  },
  {
   "cell_type": "code",
   "execution_count": 135,
   "metadata": {},
   "outputs": [
    {
     "name": "stdout",
     "output_type": "stream",
     "text": [
      "akash\n",
      "prakash\n",
      "nirash\n",
      "avkash\n"
     ]
    }
   ],
   "source": [
    "for peoples in people:\n",
    "    print(peoples)"
   ]
  },
  {
   "cell_type": "code",
   "execution_count": 136,
   "metadata": {},
   "outputs": [
    {
     "name": "stdout",
     "output_type": "stream",
     "text": [
      "s2\n",
      "s3\n",
      "s1\n"
     ]
    }
   ],
   "source": [
    "# set is an unorder collection\n",
    "setTemp = {'s1','s2','s3'}\n",
    "for setTemps in setTemp:\n",
    "    print(setTemps)"
   ]
  },
  {
   "cell_type": "code",
   "execution_count": 137,
   "metadata": {},
   "outputs": [
    {
     "name": "stdout",
     "output_type": "stream",
     "text": [
      "nirash\n",
      "avkash\n",
      "akash\n",
      "prakash\n"
     ]
    }
   ],
   "source": [
    "people = {'akash','prakash','nirash','avkash'}\n",
    "for peoples in people:\n",
    "    print(peoples)"
   ]
  },
  {
   "cell_type": "code",
   "execution_count": 138,
   "metadata": {},
   "outputs": [],
   "source": [
    "people = ('akash','prakash','nirash','avkash')"
   ]
  },
  {
   "cell_type": "code",
   "execution_count": 139,
   "metadata": {},
   "outputs": [],
   "source": [
    "salary = [10000,15000,20000,25000,30000,40000,50000,60000,70000]"
   ]
  },
  {
   "cell_type": "code",
   "execution_count": 140,
   "metadata": {},
   "outputs": [
    {
     "name": "stdout",
     "output_type": "stream",
     "text": [
      "akash  :  10000\n",
      "akash  :  15000\n",
      "akash  :  20000\n",
      "akash  :  25000\n",
      "akash  :  30000\n",
      "akash  :  40000\n",
      "akash  :  50000\n",
      "akash  :  60000\n",
      "akash  :  70000\n",
      "prakash  :  10000\n",
      "prakash  :  15000\n",
      "prakash  :  20000\n",
      "prakash  :  25000\n",
      "prakash  :  30000\n",
      "prakash  :  40000\n",
      "prakash  :  50000\n",
      "prakash  :  60000\n",
      "prakash  :  70000\n",
      "nirash  :  10000\n",
      "nirash  :  15000\n",
      "nirash  :  20000\n",
      "nirash  :  25000\n",
      "nirash  :  30000\n",
      "nirash  :  40000\n",
      "nirash  :  50000\n",
      "nirash  :  60000\n",
      "nirash  :  70000\n",
      "avkash  :  10000\n",
      "avkash  :  15000\n",
      "avkash  :  20000\n",
      "avkash  :  25000\n",
      "avkash  :  30000\n",
      "avkash  :  40000\n",
      "avkash  :  50000\n",
      "avkash  :  60000\n",
      "avkash  :  70000\n"
     ]
    }
   ],
   "source": [
    "for peoples in people:\n",
    "    for salaries in salary:\n",
    "        print(peoples,' : ',salaries)"
   ]
  },
  {
   "cell_type": "code",
   "execution_count": 141,
   "metadata": {},
   "outputs": [
    {
     "name": "stdout",
     "output_type": "stream",
     "text": [
      "akash 10000\n",
      "prakash 20000\n",
      "nirash 30000\n",
      "avkash 50000\n"
     ]
    }
   ],
   "source": [
    "cntr = 0\n",
    "for x in people:\n",
    "    print(x,salary[cntr])\n",
    "    cntr += 2"
   ]
  },
  {
   "cell_type": "code",
   "execution_count": 142,
   "metadata": {},
   "outputs": [
    {
     "name": "stdout",
     "output_type": "stream",
     "text": [
      "T\n",
      "o\n",
      "d\n",
      "a\n",
      "y\n",
      " \n",
      "i\n",
      "s\n",
      " \n",
      "a\n",
      " \n",
      "w\n",
      "o\n",
      "n\n",
      "d\n",
      "e\n",
      "r\n",
      "f\n",
      "u\n",
      "l\n",
      " \n",
      "d\n",
      "a\n",
      "y\n"
     ]
    }
   ],
   "source": [
    "str = 'Today is a wonderful day'\n",
    "for x in str:\n",
    "    print(x)"
   ]
  },
  {
   "cell_type": "code",
   "execution_count": 143,
   "metadata": {},
   "outputs": [
    {
     "name": "stdout",
     "output_type": "stream",
     "text": [
      "white\n",
      "red\n",
      "pink\n",
      "orange\n",
      "green\n",
      "blue\n"
     ]
    }
   ],
   "source": [
    "# shirts variabl 7  8 color bichme blue coor blue color pe stop\n",
    "# with the break statement we can stop the loop before it has looped through all the items\n",
    "shirts = ['white','red','pink','orange','green','blue','yellow']\n",
    "for x in shirts:\n",
    "    print(x)\n",
    "    if(x == 'blue'):\n",
    "        break;"
   ]
  },
  {
   "cell_type": "code",
   "execution_count": 144,
   "metadata": {},
   "outputs": [
    {
     "name": "stdout",
     "output_type": "stream",
     "text": [
      "classic350\n",
      "ninja\n",
      "hayabusa\n",
      "zxr\n",
      "mt15\n",
      "xl\n"
     ]
    }
   ],
   "source": [
    "# With the continue statement we can stop the current iteration of the loop, and continue with the next statement\n",
    "bikes = ['classic350','ninja','hayabusa','zxr','mt15','chetak','xl']\n",
    "for m in bikes:\n",
    "    if m == 'chetak':\n",
    "        continue\n",
    "    print(m)"
   ]
  },
  {
   "cell_type": "code",
   "execution_count": 145,
   "metadata": {},
   "outputs": [
    {
     "name": "stdout",
     "output_type": "stream",
     "text": [
      "0\n",
      "1\n",
      "2\n",
      "3\n",
      "4\n",
      "5\n",
      "6\n",
      "7\n"
     ]
    }
   ],
   "source": [
    "# range is used to generate series of number where the distance between is by 1\n",
    "for r in range(8):\n",
    "    print(r)"
   ]
  },
  {
   "cell_type": "code",
   "execution_count": 146,
   "metadata": {},
   "outputs": [
    {
     "name": "stdout",
     "output_type": "stream",
     "text": [
      "101\n",
      "102\n",
      "103\n",
      "104\n",
      "105\n",
      "106\n",
      "107\n",
      "108\n",
      "109\n"
     ]
    }
   ],
   "source": [
    "for r in range(101,110):\n",
    "    print(r)"
   ]
  },
  {
   "cell_type": "code",
   "execution_count": 147,
   "metadata": {},
   "outputs": [
    {
     "name": "stdout",
     "output_type": "stream",
     "text": [
      "Meeting with : chandramukhi\n",
      "Meeting with : kanchana\n",
      "Meeting with : manjulika\n"
     ]
    }
   ],
   "source": [
    "meeting = ['chandramukhi','kanchana','manjulika']\n",
    "for mudassir in meeting:\n",
    "    print('Meeting with : {}'.format(mudassir))"
   ]
  },
  {
   "cell_type": "code",
   "execution_count": 148,
   "metadata": {},
   "outputs": [
    {
     "data": {
      "text/plain": [
       "'manjulika'"
      ]
     },
     "execution_count": 148,
     "metadata": {},
     "output_type": "execute_result"
    }
   ],
   "source": [
    "mudassir"
   ]
  },
  {
   "cell_type": "code",
   "execution_count": 149,
   "metadata": {},
   "outputs": [
    {
     "name": "stdout",
     "output_type": "stream",
     "text": [
      "Meeting with : chandramukhi\n",
      "Meeting with : kanchana\n",
      "Meeting with : manjulika\n",
      "Meetings are over!!!\n"
     ]
    }
   ],
   "source": [
    "meeting = ['chandramukhi','kanchana','manjulika']\n",
    "for mudassir in meeting:\n",
    "    print('Meeting with : {}'.format(mudassir))\n",
    "else:\n",
    "    print('Meetings are over!!!')"
   ]
  },
  {
   "cell_type": "markdown",
   "metadata": {},
   "source": [
    "# While loop\n",
    "### with the while loop we can execute a set of statement as long as condition is true"
   ]
  },
  {
   "cell_type": "code",
   "execution_count": 150,
   "metadata": {},
   "outputs": [
    {
     "name": "stdout",
     "output_type": "stream",
     "text": [
      "1\n",
      "2\n",
      "3\n",
      "4\n",
      "5\n"
     ]
    }
   ],
   "source": [
    "i = 1\n",
    "while i<6:\n",
    "    print(i)\n",
    "    i += 1"
   ]
  },
  {
   "cell_type": "code",
   "execution_count": 151,
   "metadata": {},
   "outputs": [
    {
     "name": "stdout",
     "output_type": "stream",
     "text": [
      "1\n",
      "2\n"
     ]
    }
   ],
   "source": [
    "i = 1\n",
    "while i<6:\n",
    "    print(i)\n",
    "    i += 1\n",
    "    if i == 3:\n",
    "        break"
   ]
  },
  {
   "cell_type": "code",
   "execution_count": 152,
   "metadata": {},
   "outputs": [
    {
     "name": "stdout",
     "output_type": "stream",
     "text": [
      "Lecture :  1\n",
      "Bell\n",
      "Lecture :  2\n",
      "Bell\n",
      "Lecture :  3\n",
      "Bell\n",
      "Lecture :  4\n",
      "Bell\n",
      "Lecture :  5\n",
      "Bell\n",
      "Lecture :  6\n",
      "Bell\n",
      "Lecture :  7\n",
      "Bell\n",
      "Lecture :  8\n",
      "Bell\n"
     ]
    }
   ],
   "source": [
    "# lecture ring after each 8 lectures\n",
    "lectures = 1\n",
    "while lectures < 9:\n",
    "    print('Lecture : ',lectures)\n",
    "    print('Bell')\n",
    "    lectures += 1\n",
    "    \n",
    "    "
   ]
  },
  {
   "cell_type": "code",
   "execution_count": 153,
   "metadata": {},
   "outputs": [
    {
     "name": "stdout",
     "output_type": "stream",
     "text": [
      "Prime Minister : Modi : in year :  2019\n",
      "Prime Minister : Modi : in year :  2020\n",
      "Prime Minister : Modi : in year :  2021\n",
      "Prime Minister : Modi : in year :  2022\n",
      "Prime Minister : Modi : in year :  2023\n"
     ]
    }
   ],
   "source": [
    "year = 2019\n",
    "while year < 2024:\n",
    "    print('Prime Minister : Modi : in year : ',year)\n",
    "    year +=1"
   ]
  },
  {
   "cell_type": "code",
   "execution_count": 154,
   "metadata": {},
   "outputs": [
    {
     "name": "stdout",
     "output_type": "stream",
     "text": [
      "Lecture :  1\n",
      "English Subject\n",
      "Bell : lecture is over\n",
      "Lecture :  2\n",
      "Marathi Subject\n",
      "Bell : lecture is over\n",
      "Lecture :  3\n",
      "Math Subject\n",
      "Bell : lecture is over\n",
      "Lecture :  4\n",
      "Hindi Subject\n",
      "Bell : lecture is over\n",
      "Lecture :  5\n",
      "PT Subject\n",
      "Bell : lecture is over\n",
      "Lecture :  6\n",
      "History Subject\n",
      "Bell : lecture is over\n",
      "Lecture :  7\n",
      "Geography Subject\n",
      "Bell : lecture is over\n",
      "Lecture :  8\n",
      "Sanskrit Subject\n",
      "Bell : lecture is over\n"
     ]
    }
   ],
   "source": [
    "lecture = 1\n",
    "c = 0\n",
    "subject = ['English','Marathi','Math','Hindi','PT','History','Geography','Sanskrit']\n",
    "while lecture < 9 and c < 9:\n",
    "    for x in range(0,len(subject)):\n",
    "        print(\"Lecture : \",lecture)\n",
    "        print(subject[c],'Subject')\n",
    "        print(\"Bell : lecture is over\")\n",
    "        c += 1\n",
    "        lecture += 1"
   ]
  },
  {
   "cell_type": "code",
   "execution_count": 155,
   "metadata": {},
   "outputs": [
    {
     "name": "stdout",
     "output_type": "stream",
     "text": [
      "Lecture :  1\n",
      "English Subject\n",
      "Bell : lecture is over\n",
      "Lecture :  2\n",
      "Marathi Subject\n",
      "Bell : lecture is over\n",
      "Lecture :  3\n",
      "Math Subject\n",
      "Bell : lecture is over\n",
      "Lecture :  4\n",
      "Hindi Subject\n",
      "Bell : lecture is over\n",
      "Lecture :  5\n",
      "PT Subject\n",
      "Bell : lecture is over\n",
      "Lecture :  6\n",
      "History Subject\n",
      "Bell : lecture is over\n",
      "Lecture :  7\n",
      "Geography Subject\n",
      "Bell : lecture is over\n",
      "Lecture :  8\n",
      "Sanskrit Subject\n",
      "Bell : lecture is over\n"
     ]
    }
   ],
   "source": [
    "lecture = 1\n",
    "c = 0\n",
    "subject = ['English','Marathi','Math','Hindi','PT','History','Geography','Sanskrit']\n",
    "while lecture < 9 and c < 9:\n",
    "    print(\"Lecture : \",lecture)\n",
    "    print(subject[c],'Subject')        \n",
    "    print(\"Bell : lecture is over\")\n",
    "    c += 1\n",
    "    lecture += 1"
   ]
  },
  {
   "cell_type": "code",
   "execution_count": 156,
   "metadata": {},
   "outputs": [
    {
     "name": "stdout",
     "output_type": "stream",
     "text": [
      "Enter the vowels : a\n",
      "Yes you are right\n",
      "Enter the vowels : c\n",
      "Study grammer\n"
     ]
    }
   ],
   "source": [
    "x = ['a','e','i','o','u']\n",
    "while True:\n",
    "    value = input('Enter the vowels : ')\n",
    "    if(value in x):\n",
    "        print('Yes you are right')\n",
    "    else:\n",
    "        break\n",
    "print('Study grammer')"
   ]
  },
  {
   "cell_type": "code",
   "execution_count": 157,
   "metadata": {},
   "outputs": [
    {
     "name": "stdout",
     "output_type": "stream",
     "text": [
      "Enter marks : fail\n"
     ]
    },
    {
     "ename": "ValueError",
     "evalue": "invalid literal for int() with base 10: 'fail'",
     "output_type": "error",
     "traceback": [
      "\u001b[1;31m---------------------------------------------------------------------------\u001b[0m",
      "\u001b[1;31mValueError\u001b[0m                                Traceback (most recent call last)",
      "\u001b[1;32m<ipython-input-157-402208a2c556>\u001b[0m in \u001b[0;36m<module>\u001b[1;34m()\u001b[0m\n\u001b[0;32m      1\u001b[0m \u001b[1;32mwhile\u001b[0m \u001b[1;32mTrue\u001b[0m\u001b[1;33m:\u001b[0m\u001b[1;33m\u001b[0m\u001b[0m\n\u001b[1;32m----> 2\u001b[1;33m     \u001b[0mvalue\u001b[0m \u001b[1;33m=\u001b[0m \u001b[0mint\u001b[0m\u001b[1;33m(\u001b[0m\u001b[0minput\u001b[0m\u001b[1;33m(\u001b[0m\u001b[1;34m'Enter marks : '\u001b[0m\u001b[1;33m)\u001b[0m\u001b[1;33m)\u001b[0m\u001b[1;33m\u001b[0m\u001b[0m\n\u001b[0m\u001b[0;32m      3\u001b[0m     \u001b[1;32mif\u001b[0m\u001b[1;33m(\u001b[0m\u001b[0mvalue\u001b[0m\u001b[1;33m>=\u001b[0m\u001b[1;36m60\u001b[0m \u001b[1;32mand\u001b[0m \u001b[0mvalue\u001b[0m\u001b[1;33m<=\u001b[0m\u001b[1;36m100\u001b[0m\u001b[1;33m)\u001b[0m\u001b[1;33m:\u001b[0m\u001b[1;33m\u001b[0m\u001b[0m\n\u001b[0;32m      4\u001b[0m         \u001b[0mprint\u001b[0m\u001b[1;33m(\u001b[0m\u001b[1;34m'Congratulations'\u001b[0m\u001b[1;33m)\u001b[0m\u001b[1;33m\u001b[0m\u001b[0m\n\u001b[0;32m      5\u001b[0m     \u001b[1;32melse\u001b[0m\u001b[1;33m:\u001b[0m\u001b[1;33m\u001b[0m\u001b[0m\n",
      "\u001b[1;31mValueError\u001b[0m: invalid literal for int() with base 10: 'fail'"
     ]
    }
   ],
   "source": [
    "while True:\n",
    "    value = int(input('Enter marks : '))\n",
    "    if(value>=60 and value<=100):\n",
    "        print('Congratulations')\n",
    "    else:\n",
    "        break\n",
    "print('Fail')"
   ]
  },
  {
   "cell_type": "markdown",
   "metadata": {},
   "source": [
    "# Functions in Python\n",
    "### Function is reusable piece of code"
   ]
  },
  {
   "cell_type": "code",
   "execution_count": null,
   "metadata": {},
   "outputs": [],
   "source": [
    "# if we want to execute this type of code multiple times we have to type the same code multiple times.....\n",
    "# therefore we need a function\n",
    "a = 10\n",
    "b = 20\n",
    "c = a + b\n",
    "print(c)"
   ]
  },
  {
   "cell_type": "code",
   "execution_count": null,
   "metadata": {},
   "outputs": [],
   "source": [
    "# lets create a function\n",
    "def add(a,b):\n",
    "    print(a + b)"
   ]
  },
  {
   "cell_type": "code",
   "execution_count": null,
   "metadata": {},
   "outputs": [],
   "source": [
    "# calling a function\n",
    "add(23495239459345793475934797394537945374957394571,3475937459374953749573434759237459237495)"
   ]
  },
  {
   "cell_type": "code",
   "execution_count": null,
   "metadata": {},
   "outputs": [],
   "source": [
    "# we just need to write a single statement instead of four statements\n",
    "add(18080,24566)"
   ]
  },
  {
   "cell_type": "code",
   "execution_count": null,
   "metadata": {},
   "outputs": [],
   "source": [
    "# def is a keyword to create a function\n",
    "# add is a user defined name given to function\n",
    "# () is a part of syntax when we create a function, they are used to handle arguments or parameters\n",
    "# a,b is the argument passed to the function\n",
    "# print(a+b) here is the definition of the function\n",
    "# definition means what a function is going to do"
   ]
  },
  {
   "cell_type": "code",
   "execution_count": null,
   "metadata": {},
   "outputs": [],
   "source": [
    "# 1. parameterised and non-parameterised functions\n",
    "# 2. returning and non-returning functions"
   ]
  },
  {
   "cell_type": "code",
   "execution_count": null,
   "metadata": {},
   "outputs": [],
   "source": [
    "# parameterised function\n",
    "# we need to pass some arguments to the function\n",
    "# we need to pass an amount to get the packets of chips from the vending machine\n",
    "#amount = float(input('Enter the amount : '))\n",
    "def purchase(amount):\n",
    "    if(amount>100):\n",
    "        print('Collect the chips packet')\n",
    "    else:\n",
    "        print('Insufficient amount')"
   ]
  },
  {
   "cell_type": "code",
   "execution_count": null,
   "metadata": {},
   "outputs": [],
   "source": [
    "purchase(120)"
   ]
  },
  {
   "cell_type": "code",
   "execution_count": 1,
   "metadata": {},
   "outputs": [],
   "source": [
    "def add(a,b):\n",
    "    print('Addition is : ',(a+b))\n",
    "def sub(a,b):\n",
    "    print('Substraction is : ',(a-b))\n",
    "def mul(a,b):\n",
    "    print('Multiplication is : ',(a*b))\n",
    "def div(a,b):\n",
    "    print('Division is : ',(a/b))"
   ]
  },
  {
   "cell_type": "code",
   "execution_count": 2,
   "metadata": {},
   "outputs": [
    {
     "name": "stdout",
     "output_type": "stream",
     "text": [
      "Addition is :  15\n",
      "Substraction is :  5\n",
      "Multiplication is :  50\n",
      "Division is :  2.0\n"
     ]
    }
   ],
   "source": [
    "add(10,5)\n",
    "sub(10,5)\n",
    "mul(10,5)\n",
    "div(10,5)"
   ]
  },
  {
   "cell_type": "code",
   "execution_count": null,
   "metadata": {},
   "outputs": [],
   "source": [
    "# user \n",
    "user = int(input('1 - Addition \\n2 - Substraction \\n3 - Multiplication \\n4 - Division\\nEnter your choice : '))\n",
    "if(user==1 or user==2 or user==3 or user==3 or user==4):\n",
    "    a = int(input('Enter value of a : '))\n",
    "    b = int(input('Enter value of b : '))\n",
    "    if(user==1):\n",
    "        add(a,b)\n",
    "    elif(user==2):\n",
    "        sub(a,b)\n",
    "    elif(user==3):\n",
    "        mul(a,b)\n",
    "    elif(user==4):\n",
    "        div(a,b)\n",
    "    else:\n",
    "        print('Invalid')\n",
    "else:\n",
    "    print('Invalid choice')\n",
    "\n"
   ]
  },
  {
   "cell_type": "code",
   "execution_count": 4,
   "metadata": {},
   "outputs": [
    {
     "name": "stdout",
     "output_type": "stream",
     "text": [
      "1 - Addition \n",
      "2 - Substraction \n",
      "3 - Multiplication \n",
      "4 - Division \n",
      "5 - Exit\n",
      "Enter your choice : 1\n",
      "Enter value of a : 2\n",
      "Enter value of b : 3\n",
      "Addition is :  5.0\n",
      "Enter your choice : 3\n",
      "Enter value of a : 20\n",
      "Enter value of b : 2\n",
      "Multiplication is :  40.0\n",
      "Enter your choice : 12\n",
      "Invalid choice\n"
     ]
    }
   ],
   "source": [
    "# user \n",
    "print('1 - Addition \\n2 - Substraction \\n3 - Multiplication \\n4 - Division \\n5 - Exit')\n",
    "while(1):\n",
    "    user = int(input('Enter your choice : '))\n",
    "    if(user==1 or user==2 or user==3 or user==3 or user==4):\n",
    "        a = float(input('Enter value of a : '))\n",
    "        b = float(input('Enter value of b : '))\n",
    "        if(user==1):\n",
    "            add(a,b)\n",
    "        elif(user==2):\n",
    "            sub(a,b)\n",
    "        elif(user==3):\n",
    "            mul(a,b)\n",
    "        elif(user==4):\n",
    "            div(a,b)\n",
    "        elif(user==12):\n",
    "            break;\n",
    "        else:\n",
    "            break;\n",
    "    else:\n",
    "        print('Invalid choice')\n",
    "        break;"
   ]
  },
  {
   "cell_type": "code",
   "execution_count": null,
   "metadata": {},
   "outputs": [],
   "source": [
    "# For loops real life examples are as follows:\n",
    "## Twitter/facebook mutual list\n",
    "## music player plays until list finish\n",
    "## "
   ]
  },
  {
   "cell_type": "code",
   "execution_count": 1,
   "metadata": {},
   "outputs": [
    {
     "name": "stdout",
     "output_type": "stream",
     "text": [
      "Aaj shiv sir class sir class ghenare ka? \n",
      "[yes/no]no\n",
      "Bunk it....\n"
     ]
    }
   ],
   "source": [
    "# own functions\n",
    "## clg tbhi jayenge jab ml class rahega otherwise no\n",
    "def DecideClg(dec):\n",
    "    if(dec=='yes'):\n",
    "        print('You have to attend clg')\n",
    "    else:\n",
    "        print('Bunk it....')\n",
    "##\n",
    "userInput = str(input(\"Aaj shiv sir class sir class ghenare ka? \\n[yes/no]\"))\n",
    "DecideClg(userInput)"
   ]
  },
  {
   "cell_type": "code",
   "execution_count": null,
   "metadata": {},
   "outputs": [],
   "source": []
  }
 ],
 "metadata": {
  "kernelspec": {
   "display_name": "Python 3",
   "language": "python",
   "name": "python3"
  },
  "language_info": {
   "codemirror_mode": {
    "name": "ipython",
    "version": 3
   },
   "file_extension": ".py",
   "mimetype": "text/x-python",
   "name": "python",
   "nbconvert_exporter": "python",
   "pygments_lexer": "ipython3",
   "version": "3.7.0"
  }
 },
 "nbformat": 4,
 "nbformat_minor": 2
}
